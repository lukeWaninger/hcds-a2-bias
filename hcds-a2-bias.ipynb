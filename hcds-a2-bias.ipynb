{
 "cells": [
  {
   "cell_type": "code",
   "execution_count": 1,
   "metadata": {
    "ExecuteTime": {
     "end_time": "2018-10-31T17:41:53.540164Z",
     "start_time": "2018-10-31T17:41:53.520164Z"
    }
   },
   "outputs": [],
   "source": [
    "%load_ext ipycache"
   ]
  },
  {
   "cell_type": "code",
   "execution_count": 2,
   "metadata": {
    "ExecuteTime": {
     "end_time": "2018-10-31T17:41:54.721345Z",
     "start_time": "2018-10-31T17:41:53.544165Z"
    }
   },
   "outputs": [
    {
     "data": {
      "text/html": [
       "<script>requirejs.config({paths: { 'plotly': ['https://cdn.plot.ly/plotly-latest.min']},});if(!window.Plotly) {{require(['plotly'],function(plotly) {window.Plotly=plotly;});}}</script>"
      ],
      "text/vnd.plotly.v1+html": [
       "<script>requirejs.config({paths: { 'plotly': ['https://cdn.plot.ly/plotly-latest.min']},});if(!window.Plotly) {{require(['plotly'],function(plotly) {window.Plotly=plotly;});}}</script>"
      ]
     },
     "metadata": {},
     "output_type": "display_data"
    }
   ],
   "source": [
    "# import core packages\n",
    "import io\n",
    "from IPython.core.interactiveshell import InteractiveShell\n",
    "from IPython.display import Image\n",
    "import itertools\n",
    "import json\n",
    "import multiprocessing as mul\n",
    "import requests\n",
    "from zipfile import ZipFile\n",
    "\n",
    "# import third party dependencies\n",
    "import numpy as np\n",
    "import pandas as pd\n",
    "import plotly.graph_objs as go\n",
    "from plotly import tools\n",
    "import plotly.io as pio\n",
    "from plotly.offline import init_notebook_mode, iplot\n",
    "\n",
    "# initialize plotly to use offline mode\n",
    "init_notebook_mode(connected=True)\n",
    "\n",
    "# adjust the notebook to print everything in the cell\n",
    "InteractiveShell.ast_node_interactivity = 'all'"
   ]
  },
  {
   "cell_type": "markdown",
   "metadata": {},
   "source": [
    "### The goal\n",
    "Throughout this notebook I will show that a clear bias exists in the Wikipedia dataset. Specifically, we will discuss the bias in terms of politician coverage through number and quality of the articles in relation to their home countries population. We will gather the data from two sources: one will be our source for population data and the other contains the relevant article metadata. For each article, we will query a machine learning service to estimate the quality of the article. And finally, we will generate a few tables and visualizations to display the bias."
   ]
  },
  {
   "cell_type": "markdown",
   "metadata": {},
   "source": [
    "### Data Load"
   ]
  },
  {
   "cell_type": "markdown",
   "metadata": {},
   "source": [
    "#### Wikipedia Articles -  [Figshare](https://figshare.com/articles/Untitled_Item/5513449)\n",
    "This dataset contains the article metadata we need to estimate the number and quality of articles within a given country. I download the data directly to this notebook, extract the compressed file contents, and stream directly into a Pandas DataFrame."
   ]
  },
  {
   "cell_type": "code",
   "execution_count": 3,
   "metadata": {
    "ExecuteTime": {
     "end_time": "2018-10-31T17:41:59.088346Z",
     "start_time": "2018-10-31T17:41:54.723346Z"
    }
   },
   "outputs": [
    {
     "data": {
      "text/html": [
       "<div>\n",
       "<style scoped>\n",
       "    .dataframe tbody tr th:only-of-type {\n",
       "        vertical-align: middle;\n",
       "    }\n",
       "\n",
       "    .dataframe tbody tr th {\n",
       "        vertical-align: top;\n",
       "    }\n",
       "\n",
       "    .dataframe thead th {\n",
       "        text-align: right;\n",
       "    }\n",
       "</style>\n",
       "<table border=\"1\" class=\"dataframe\">\n",
       "  <thead>\n",
       "    <tr style=\"text-align: right;\">\n",
       "      <th></th>\n",
       "      <th>page</th>\n",
       "      <th>country</th>\n",
       "      <th>rev_id</th>\n",
       "    </tr>\n",
       "  </thead>\n",
       "  <tbody>\n",
       "    <tr>\n",
       "      <th>0</th>\n",
       "      <td>Template:ZambiaProvincialMinisters</td>\n",
       "      <td>Zambia</td>\n",
       "      <td>235107991</td>\n",
       "    </tr>\n",
       "    <tr>\n",
       "      <th>1</th>\n",
       "      <td>Bir I of Kanem</td>\n",
       "      <td>Chad</td>\n",
       "      <td>355319463</td>\n",
       "    </tr>\n",
       "    <tr>\n",
       "      <th>2</th>\n",
       "      <td>Template:Zimbabwe-politician-stub</td>\n",
       "      <td>Zimbabwe</td>\n",
       "      <td>391862046</td>\n",
       "    </tr>\n",
       "    <tr>\n",
       "      <th>3</th>\n",
       "      <td>Template:Uganda-politician-stub</td>\n",
       "      <td>Uganda</td>\n",
       "      <td>391862070</td>\n",
       "    </tr>\n",
       "    <tr>\n",
       "      <th>4</th>\n",
       "      <td>Template:Namibia-politician-stub</td>\n",
       "      <td>Namibia</td>\n",
       "      <td>391862409</td>\n",
       "    </tr>\n",
       "  </tbody>\n",
       "</table>\n",
       "</div>"
      ],
      "text/plain": [
       "                                 page   country     rev_id\n",
       "0  Template:ZambiaProvincialMinisters    Zambia  235107991\n",
       "1                      Bir I of Kanem      Chad  355319463\n",
       "2   Template:Zimbabwe-politician-stub  Zimbabwe  391862046\n",
       "3     Template:Uganda-politician-stub    Uganda  391862070\n",
       "4    Template:Namibia-politician-stub   Namibia  391862409"
      ]
     },
     "execution_count": 3,
     "metadata": {},
     "output_type": "execute_result"
    }
   ],
   "source": [
    "# download the data from figshare\n",
    "figshare = 'https://ndownloader.figshare.com/files/9614893'\n",
    "r = requests.get(figshare)\n",
    "\n",
    "# make sure the result is valid\n",
    "if r.ok:\n",
    "    # feed a byte stream into a ZipFile\n",
    "    stream = io.BytesIO(r.content)\n",
    "    zf = ZipFile(stream)\n",
    "    \n",
    "    # locate the csv file within the list of files embedded in the ZipFile generated above\n",
    "    # I make sure to not include the files within the 'MAX OS' directory\n",
    "    file = [\n",
    "        f for f in zf.filelist if f.filename.find('page_data.csv') > 0 and f.filename.find('MAC') == -1\n",
    "    ][0]\n",
    "    \n",
    "    # extract the csv file and read into a pandas dataframe\n",
    "    page_data = pd.read_csv(zf.extract(file))\n",
    "\n",
    "# print this if the request failed for some reason\n",
    "else:\n",
    "    print(f'failed to download page data: {r.status}')\n",
    "\n",
    "page_data.head()"
   ]
  },
  {
   "cell_type": "markdown",
   "metadata": {},
   "source": [
    "#### Population Data - [DropBox](https://www.dropbox.com/s/5u7sy1xt7g0oi2c/WPDS_2018_data.csv?dl=0) location.\n",
    "This is a random DropBox location provided for the assignment. It contains each country and their population estimated at some point in the middle of 2018. Again, I download the file directly from DropBox and feed the resulting byte stream into a Pandas DataFrame."
   ]
  },
  {
   "cell_type": "code",
   "execution_count": 4,
   "metadata": {
    "ExecuteTime": {
     "end_time": "2018-10-31T17:41:59.799346Z",
     "start_time": "2018-10-31T17:41:59.091350Z"
    }
   },
   "outputs": [
    {
     "data": {
      "text/html": [
       "<div>\n",
       "<style scoped>\n",
       "    .dataframe tbody tr th:only-of-type {\n",
       "        vertical-align: middle;\n",
       "    }\n",
       "\n",
       "    .dataframe tbody tr th {\n",
       "        vertical-align: top;\n",
       "    }\n",
       "\n",
       "    .dataframe thead th {\n",
       "        text-align: right;\n",
       "    }\n",
       "</style>\n",
       "<table border=\"1\" class=\"dataframe\">\n",
       "  <thead>\n",
       "    <tr style=\"text-align: right;\">\n",
       "      <th></th>\n",
       "      <th>Geography</th>\n",
       "      <th>Population mid-2018 (millions)</th>\n",
       "    </tr>\n",
       "  </thead>\n",
       "  <tbody>\n",
       "    <tr>\n",
       "      <th>0</th>\n",
       "      <td>AFRICA</td>\n",
       "      <td>1,284</td>\n",
       "    </tr>\n",
       "    <tr>\n",
       "      <th>1</th>\n",
       "      <td>Algeria</td>\n",
       "      <td>42.7</td>\n",
       "    </tr>\n",
       "    <tr>\n",
       "      <th>2</th>\n",
       "      <td>Egypt</td>\n",
       "      <td>97</td>\n",
       "    </tr>\n",
       "    <tr>\n",
       "      <th>3</th>\n",
       "      <td>Libya</td>\n",
       "      <td>6.5</td>\n",
       "    </tr>\n",
       "    <tr>\n",
       "      <th>4</th>\n",
       "      <td>Morocco</td>\n",
       "      <td>35.2</td>\n",
       "    </tr>\n",
       "  </tbody>\n",
       "</table>\n",
       "</div>"
      ],
      "text/plain": [
       "  Geography Population mid-2018 (millions)\n",
       "0    AFRICA                          1,284\n",
       "1   Algeria                           42.7\n",
       "2     Egypt                             97\n",
       "3     Libya                            6.5\n",
       "4   Morocco                           35.2"
      ]
     },
     "execution_count": 4,
     "metadata": {},
     "output_type": "execute_result"
    }
   ],
   "source": [
    "# download the data from Drop Box\n",
    "dropbox = 'https://www.dropbox.com/s/5u7sy1xt7g0oi2c/WPDS_2018_data.csv?dl=1'\n",
    "r = requests.get(dropbox)\n",
    "\n",
    "# make sure the result is valid\n",
    "if r.ok:\n",
    "    # this time, feed the csv byte stream into a pandas dataframe directly\n",
    "    stream = io.BytesIO(r.content)\n",
    "    pop = pd.read_csv(stream)\n",
    "\n",
    "# print this if the request failed for some reason\n",
    "else:\n",
    "    print(f'failed to download population data: {r.status}')\n",
    "\n",
    "pop.head()"
   ]
  },
  {
   "cell_type": "markdown",
   "metadata": {},
   "source": [
    "Right at the start we see inconsistencies in the format of our joining keys - Geography and country. I run some quick string tools to ensure they're consistent through both datasets. The columns are renamed in order to make the joining easier to read. Additionally, I verify that the joining keys are, in fact, keys then perform an inner join to include only the countries that have data in both sets."
   ]
  },
  {
   "cell_type": "code",
   "execution_count": 5,
   "metadata": {
    "ExecuteTime": {
     "end_time": "2018-10-31T17:41:59.980395Z",
     "start_time": "2018-10-31T17:41:59.801348Z"
    }
   },
   "outputs": [
    {
     "data": {
      "text/html": [
       "<div>\n",
       "<style scoped>\n",
       "    .dataframe tbody tr th:only-of-type {\n",
       "        vertical-align: middle;\n",
       "    }\n",
       "\n",
       "    .dataframe tbody tr th {\n",
       "        vertical-align: top;\n",
       "    }\n",
       "\n",
       "    .dataframe thead th {\n",
       "        text-align: right;\n",
       "    }\n",
       "</style>\n",
       "<table border=\"1\" class=\"dataframe\">\n",
       "  <thead>\n",
       "    <tr style=\"text-align: right;\">\n",
       "      <th></th>\n",
       "      <th>country</th>\n",
       "      <th>population</th>\n",
       "      <th>article_name</th>\n",
       "      <th>revision_id</th>\n",
       "    </tr>\n",
       "  </thead>\n",
       "  <tbody>\n",
       "    <tr>\n",
       "      <th>0</th>\n",
       "      <td>Algeria</td>\n",
       "      <td>42.7</td>\n",
       "      <td>Template:Algeria-politician-stub</td>\n",
       "      <td>544347736</td>\n",
       "    </tr>\n",
       "    <tr>\n",
       "      <th>1</th>\n",
       "      <td>Algeria</td>\n",
       "      <td>42.7</td>\n",
       "      <td>Template:Algeria-diplomat-stub</td>\n",
       "      <td>567620838</td>\n",
       "    </tr>\n",
       "    <tr>\n",
       "      <th>2</th>\n",
       "      <td>Algeria</td>\n",
       "      <td>42.7</td>\n",
       "      <td>Template:AlgerianPres</td>\n",
       "      <td>665948270</td>\n",
       "    </tr>\n",
       "    <tr>\n",
       "      <th>3</th>\n",
       "      <td>Algeria</td>\n",
       "      <td>42.7</td>\n",
       "      <td>Ali Fawzi Rebaine</td>\n",
       "      <td>686269631</td>\n",
       "    </tr>\n",
       "    <tr>\n",
       "      <th>4</th>\n",
       "      <td>Algeria</td>\n",
       "      <td>42.7</td>\n",
       "      <td>Ahmed Attaf</td>\n",
       "      <td>705910185</td>\n",
       "    </tr>\n",
       "  </tbody>\n",
       "</table>\n",
       "</div>"
      ],
      "text/plain": [
       "   country  population                      article_name  revision_id\n",
       "0  Algeria        42.7  Template:Algeria-politician-stub    544347736\n",
       "1  Algeria        42.7    Template:Algeria-diplomat-stub    567620838\n",
       "2  Algeria        42.7             Template:AlgerianPres    665948270\n",
       "3  Algeria        42.7                 Ali Fawzi Rebaine    686269631\n",
       "4  Algeria        42.7                       Ahmed Attaf    705910185"
      ]
     },
     "execution_count": 5,
     "metadata": {},
     "output_type": "execute_result"
    }
   ],
   "source": [
    "# explicitly rename the columns\n",
    "pop.rename(columns={\n",
    "    'Geography':'country',\n",
    "    'Population mid-2018 (millions)':'population'\n",
    "}, inplace=True)\n",
    "\n",
    "page_data.rename(columns={\n",
    "    'page':'article_name',\n",
    "    'rev_id':'revision_id'\n",
    "}, inplace=True)\n",
    "\n",
    "# enforce string format consistency\n",
    "pop.country = pop.country.apply(str.title)\n",
    "page_data.country = page_data.country.apply(str.title)\n",
    "\n",
    "# double check the 'keys' in each dataframe are in fact joinable keys by verifying uniqueness\n",
    "assert len(pd.unique(pop.country)) == len(pop)\n",
    "assert len(pd.unique([(t.article_name, t.country) for t in page_data.itertuples()])) == len(page_data)\n",
    "\n",
    "# convert the population to a  float - I use replace to remove any commas in the string represenation\n",
    "pop.population = pop.population.apply(lambda x: float(x.replace(',', '')))\n",
    "\n",
    "# merge the data frames\n",
    "df = pop.merge(page_data, on='country', how='inner')\n",
    "\n",
    "df.head()"
   ]
  },
  {
   "cell_type": "code",
   "execution_count": 6,
   "metadata": {
    "ExecuteTime": {
     "end_time": "2018-10-31T17:41:59.988353Z",
     "start_time": "2018-10-31T17:41:59.982348Z"
    }
   },
   "outputs": [
    {
     "data": {
      "text/plain": [
       "45077"
      ]
     },
     "execution_count": 6,
     "metadata": {},
     "output_type": "execute_result"
    }
   ],
   "source": [
    "len(df)"
   ]
  },
  {
   "cell_type": "markdown",
   "metadata": {},
   "source": [
    "### Make API calls to get articles predictions\n",
    "Now that we have the two datasets prepared and merged into one; we use the metadata to query the ORES machine learning service to get article quality estimates. There are over 45K revision ids in the dataset above. Because of this, I write a function to handle a single query and process them in parallel using a process pool."
   ]
  },
  {
   "cell_type": "code",
   "execution_count": 7,
   "metadata": {
    "ExecuteTime": {
     "end_time": "2018-10-31T17:42:00.013350Z",
     "start_time": "2018-10-31T17:41:59.991348Z"
    }
   },
   "outputs": [],
   "source": [
    "def get_ores_data(revision_ids):    \n",
    "    \"\"\"Make an API call to ORES\n",
    "    \n",
    "    Args:\n",
    "        revision_ids: [(str | int),]  list of revision ids to include with the query\n",
    "        \n",
    "    Returns:\n",
    "        [(int, str),] A list of tuples containing two elements - [(revision_id, quality),]\n",
    "    \"\"\"\n",
    "    # Define the endpoint\n",
    "    endpoint = 'https://ores.wikimedia.org/v3/scores/{project}/?models={model}&revids={revids}'\n",
    "    \n",
    "    # Specify the parameters - joining the revision IDs together separated by | marks.\n",
    "    params = {\n",
    "        'project': 'enwiki',\n",
    "        'model': 'wp10',\n",
    "        'revids': '|'.join(str(x) for x in revision_ids)\n",
    "    }\n",
    "    \n",
    "    # make the call and verify the response before proceeding\n",
    "    response = requests.get(endpoint.format(**params))\n",
    "    if response.ok:\n",
    "        # convert the response to json\n",
    "        response = response.json()\n",
    "        \n",
    "        # return the scores as a list of tuples, taking only the prediction\n",
    "        results = []\n",
    "        for rid in revision_ids:\n",
    "            # start at the parent node we're interested in\n",
    "            parent = response['enwiki']['scores'][str(rid)]['wp10']\n",
    "\n",
    "            # check for any errors, append either the error or  prediction\n",
    "            if 'error' in parent.keys():\n",
    "                results.append((rid, parent['error']['type']))\n",
    "            else:\n",
    "                results.append((rid, parent['score']['prediction']))\n",
    "            \n",
    "        return results\n",
    "    \n",
    "    # if the request failed, return the status code and list of revision ids so we can retry later\n",
    "    else:\n",
    "        return dict(err=response.status, revision_ids=revision_ids)"
   ]
  },
  {
   "cell_type": "markdown",
   "metadata": {},
   "source": [
    "Process the revision ids in batches of 50 to preclude Wikimedia blocking the request. I also run these requests in parallel and cache the results. To force the cell to run again you can do one of two things: comment out the cell magic in line 1 or delete the cached pkl file."
   ]
  },
  {
   "cell_type": "code",
   "execution_count": 8,
   "metadata": {
    "ExecuteTime": {
     "end_time": "2018-10-31T17:42:00.058637Z",
     "start_time": "2018-10-31T17:42:00.016347Z"
    }
   },
   "outputs": [
    {
     "name": "stdout",
     "output_type": "stream",
     "text": [
      "[Skipped the cell's code and loaded variables results from file 'C:\\Users\\lukew\\OneDrive\\School\\DATA 512 [HCDS - Ethics]\\DATA512_A2\\api_results.pkl'.]\n"
     ]
    }
   ],
   "source": [
    "%%cache api_results.pkl results\n",
    "\n",
    "# define how many rev_ids to include in each API call\n",
    "step = 50\n",
    "\n",
    "# start a task pool using all available cores\n",
    "pool = mul.Pool(mul.cpu_count())\n",
    "\n",
    "# process the calls in parallel\n",
    "results = list(pool.map(\n",
    "    get_ores_data,\n",
    "    [df.revision_id[i:i+step] for i in range(0, len(df), step)]\n",
    "))\n",
    "\n",
    "# make sure to kill the children\n",
    "pool.close(); pool.join()"
   ]
  },
  {
   "cell_type": "markdown",
   "metadata": {},
   "source": [
    "### Create the final dataset"
   ]
  },
  {
   "cell_type": "markdown",
   "metadata": {},
   "source": [
    "I flatten the list of batched requests into a single list then convert them to a dataframe and join with the main."
   ]
  },
  {
   "cell_type": "code",
   "execution_count": 9,
   "metadata": {
    "ExecuteTime": {
     "end_time": "2018-10-31T17:42:00.373635Z",
     "start_time": "2018-10-31T17:42:00.063640Z"
    }
   },
   "outputs": [
    {
     "data": {
      "text/html": [
       "<div>\n",
       "<style scoped>\n",
       "    .dataframe tbody tr th:only-of-type {\n",
       "        vertical-align: middle;\n",
       "    }\n",
       "\n",
       "    .dataframe tbody tr th {\n",
       "        vertical-align: top;\n",
       "    }\n",
       "\n",
       "    .dataframe thead th {\n",
       "        text-align: right;\n",
       "    }\n",
       "</style>\n",
       "<table border=\"1\" class=\"dataframe\">\n",
       "  <thead>\n",
       "    <tr style=\"text-align: right;\">\n",
       "      <th></th>\n",
       "      <th>country</th>\n",
       "      <th>population</th>\n",
       "      <th>article_name</th>\n",
       "      <th>revision_id</th>\n",
       "      <th>prediction</th>\n",
       "    </tr>\n",
       "  </thead>\n",
       "  <tbody>\n",
       "    <tr>\n",
       "      <th>0</th>\n",
       "      <td>Algeria</td>\n",
       "      <td>42.7</td>\n",
       "      <td>Template:Algeria-politician-stub</td>\n",
       "      <td>544347736</td>\n",
       "      <td>Stub</td>\n",
       "    </tr>\n",
       "    <tr>\n",
       "      <th>1</th>\n",
       "      <td>Algeria</td>\n",
       "      <td>42.7</td>\n",
       "      <td>Template:Algeria-diplomat-stub</td>\n",
       "      <td>567620838</td>\n",
       "      <td>Stub</td>\n",
       "    </tr>\n",
       "    <tr>\n",
       "      <th>2</th>\n",
       "      <td>Algeria</td>\n",
       "      <td>42.7</td>\n",
       "      <td>Template:AlgerianPres</td>\n",
       "      <td>665948270</td>\n",
       "      <td>Stub</td>\n",
       "    </tr>\n",
       "    <tr>\n",
       "      <th>3</th>\n",
       "      <td>Algeria</td>\n",
       "      <td>42.7</td>\n",
       "      <td>Ali Fawzi Rebaine</td>\n",
       "      <td>686269631</td>\n",
       "      <td>Stub</td>\n",
       "    </tr>\n",
       "    <tr>\n",
       "      <th>4</th>\n",
       "      <td>Algeria</td>\n",
       "      <td>42.7</td>\n",
       "      <td>Ahmed Attaf</td>\n",
       "      <td>705910185</td>\n",
       "      <td>Stub</td>\n",
       "    </tr>\n",
       "  </tbody>\n",
       "</table>\n",
       "</div>"
      ],
      "text/plain": [
       "   country  population                      article_name  revision_id  \\\n",
       "0  Algeria        42.7  Template:Algeria-politician-stub    544347736   \n",
       "1  Algeria        42.7    Template:Algeria-diplomat-stub    567620838   \n",
       "2  Algeria        42.7             Template:AlgerianPres    665948270   \n",
       "3  Algeria        42.7                 Ali Fawzi Rebaine    686269631   \n",
       "4  Algeria        42.7                       Ahmed Attaf    705910185   \n",
       "\n",
       "  prediction  \n",
       "0       Stub  \n",
       "1       Stub  \n",
       "2       Stub  \n",
       "3       Stub  \n",
       "4       Stub  "
      ]
     },
     "execution_count": 9,
     "metadata": {},
     "output_type": "execute_result"
    }
   ],
   "source": [
    "# flatten the batches into a single list\n",
    "results = list(itertools.chain.from_iterable(results))\n",
    "\n",
    "# convert to a dataframe\n",
    "results = pd.DataFrame(results, columns=['revision_id', 'prediction'])\n",
    "\n",
    "# join with the main\n",
    "df_ = df.merge(results, on='revision_id', how='inner')\n",
    "\n",
    "# verify that each revision id was processed before resetting the variable\n",
    "assert len(df) == len(df_)\n",
    "df = df_; del df_\n",
    "\n",
    "# persist the final dataframe  to disk\n",
    "df.to_csv('data-512-a2.csv', index=None)\n",
    "\n",
    "df.head()"
   ]
  },
  {
   "cell_type": "markdown",
   "metadata": {},
   "source": [
    "### Analysis\n",
    "I will create two tables to show the bias. One to answer the question regarding the number of articles of per country and the other for quality. The number of articles is calculated as a ratio over the population count in order to compare the countries. For quality, I create a ratio of the number of good articles or the total number of articles for the country."
   ]
  },
  {
   "cell_type": "code",
   "execution_count": 10,
   "metadata": {
    "ExecuteTime": {
     "end_time": "2018-10-31T17:42:00.461636Z",
     "start_time": "2018-10-31T17:42:00.376648Z"
    }
   },
   "outputs": [
    {
     "data": {
      "text/html": [
       "<div>\n",
       "<style scoped>\n",
       "    .dataframe tbody tr th:only-of-type {\n",
       "        vertical-align: middle;\n",
       "    }\n",
       "\n",
       "    .dataframe tbody tr th {\n",
       "        vertical-align: top;\n",
       "    }\n",
       "\n",
       "    .dataframe thead th {\n",
       "        text-align: right;\n",
       "    }\n",
       "</style>\n",
       "<table border=\"1\" class=\"dataframe\">\n",
       "  <thead>\n",
       "    <tr style=\"text-align: right;\">\n",
       "      <th></th>\n",
       "      <th>country</th>\n",
       "      <th>articles_per_million</th>\n",
       "    </tr>\n",
       "  </thead>\n",
       "  <tbody>\n",
       "    <tr>\n",
       "      <th>166</th>\n",
       "      <td>Tuvalu</td>\n",
       "      <td>5500.0</td>\n",
       "    </tr>\n",
       "    <tr>\n",
       "      <th>115</th>\n",
       "      <td>Nauru</td>\n",
       "      <td>5300.0</td>\n",
       "    </tr>\n",
       "    <tr>\n",
       "      <th>135</th>\n",
       "      <td>San Marino</td>\n",
       "      <td>2733.3</td>\n",
       "    </tr>\n",
       "    <tr>\n",
       "      <th>108</th>\n",
       "      <td>Monaco</td>\n",
       "      <td>1000.0</td>\n",
       "    </tr>\n",
       "    <tr>\n",
       "      <th>93</th>\n",
       "      <td>Liechtenstein</td>\n",
       "      <td>725.0</td>\n",
       "    </tr>\n",
       "    <tr>\n",
       "      <th>161</th>\n",
       "      <td>Tonga</td>\n",
       "      <td>630.0</td>\n",
       "    </tr>\n",
       "    <tr>\n",
       "      <th>103</th>\n",
       "      <td>Marshall Islands</td>\n",
       "      <td>616.7</td>\n",
       "    </tr>\n",
       "    <tr>\n",
       "      <th>68</th>\n",
       "      <td>Iceland</td>\n",
       "      <td>515.0</td>\n",
       "    </tr>\n",
       "    <tr>\n",
       "      <th>3</th>\n",
       "      <td>Andorra</td>\n",
       "      <td>425.0</td>\n",
       "    </tr>\n",
       "    <tr>\n",
       "      <th>52</th>\n",
       "      <td>Federated States Of Micronesia</td>\n",
       "      <td>380.0</td>\n",
       "    </tr>\n",
       "  </tbody>\n",
       "</table>\n",
       "</div>"
      ],
      "text/plain": [
       "                            country  articles_per_million\n",
       "166                          Tuvalu                5500.0\n",
       "115                           Nauru                5300.0\n",
       "135                      San Marino                2733.3\n",
       "108                          Monaco                1000.0\n",
       "93                    Liechtenstein                 725.0\n",
       "161                           Tonga                 630.0\n",
       "103                Marshall Islands                 616.7\n",
       "68                          Iceland                 515.0\n",
       "3                           Andorra                 425.0\n",
       "52   Federated States Of Micronesia                 380.0"
      ]
     },
     "execution_count": 10,
     "metadata": {},
     "output_type": "execute_result"
    },
    {
     "data": {
      "text/html": [
       "<div>\n",
       "<style scoped>\n",
       "    .dataframe tbody tr th:only-of-type {\n",
       "        vertical-align: middle;\n",
       "    }\n",
       "\n",
       "    .dataframe tbody tr th {\n",
       "        vertical-align: top;\n",
       "    }\n",
       "\n",
       "    .dataframe thead th {\n",
       "        text-align: right;\n",
       "    }\n",
       "</style>\n",
       "<table border=\"1\" class=\"dataframe\">\n",
       "  <thead>\n",
       "    <tr style=\"text-align: right;\">\n",
       "      <th></th>\n",
       "      <th>country</th>\n",
       "      <th>articles_per_million</th>\n",
       "    </tr>\n",
       "  </thead>\n",
       "  <tbody>\n",
       "    <tr>\n",
       "      <th>176</th>\n",
       "      <td>Vietnam</td>\n",
       "      <td>2.0</td>\n",
       "    </tr>\n",
       "    <tr>\n",
       "      <th>13</th>\n",
       "      <td>Bangladesh</td>\n",
       "      <td>1.9</td>\n",
       "    </tr>\n",
       "    <tr>\n",
       "      <th>159</th>\n",
       "      <td>Thailand</td>\n",
       "      <td>1.7</td>\n",
       "    </tr>\n",
       "    <tr>\n",
       "      <th>82</th>\n",
       "      <td>Korea, North</td>\n",
       "      <td>1.5</td>\n",
       "    </tr>\n",
       "    <tr>\n",
       "      <th>178</th>\n",
       "      <td>Zambia</td>\n",
       "      <td>1.5</td>\n",
       "    </tr>\n",
       "    <tr>\n",
       "      <th>51</th>\n",
       "      <td>Ethiopia</td>\n",
       "      <td>1.0</td>\n",
       "    </tr>\n",
       "    <tr>\n",
       "      <th>173</th>\n",
       "      <td>Uzbekistan</td>\n",
       "      <td>0.9</td>\n",
       "    </tr>\n",
       "    <tr>\n",
       "      <th>34</th>\n",
       "      <td>China</td>\n",
       "      <td>0.8</td>\n",
       "    </tr>\n",
       "    <tr>\n",
       "      <th>70</th>\n",
       "      <td>Indonesia</td>\n",
       "      <td>0.8</td>\n",
       "    </tr>\n",
       "    <tr>\n",
       "      <th>69</th>\n",
       "      <td>India</td>\n",
       "      <td>0.7</td>\n",
       "    </tr>\n",
       "  </tbody>\n",
       "</table>\n",
       "</div>"
      ],
      "text/plain": [
       "          country  articles_per_million\n",
       "176       Vietnam                   2.0\n",
       "13     Bangladesh                   1.9\n",
       "159      Thailand                   1.7\n",
       "82   Korea, North                   1.5\n",
       "178        Zambia                   1.5\n",
       "51       Ethiopia                   1.0\n",
       "173    Uzbekistan                   0.9\n",
       "34          China                   0.8\n",
       "70      Indonesia                   0.8\n",
       "69          India                   0.7"
      ]
     },
     "execution_count": 10,
     "metadata": {},
     "output_type": "execute_result"
    }
   ],
   "source": [
    "# reset the population index to make the following computations more readable\n",
    "pop.set_index('country', inplace=True)\n",
    "\n",
    "# group the dataframe by country , count the number of articles in each\n",
    "# additionally, reset the index inorder to collapse the dataframe back\n",
    "# and finally, rename the prediction column to what it now represents\n",
    "table12 = df.loc[:, ['country', 'prediction']]\\\n",
    "    .groupby(['country'])\\\n",
    "    .count()\\\n",
    "    .reset_index()\\\n",
    "    .rename(columns={'prediction':'num_articles'})\n",
    "\n",
    "# calculate the articles per million as a new column\n",
    "table12['articles_per_million'] = [\n",
    "    np.round(t.num_articles/pop.loc[t.country].population, 1)\n",
    "    for t in table12.itertuples()\n",
    "]\n",
    "\n",
    "# sort the table by the number of articles per million \n",
    "table12 = table12.sort_values(by='articles_per_million', ascending=False)\n",
    "\n",
    "# extract the highest and lowest ten countries into separate dataframes\n",
    "t1 = table12.drop(columns='num_articles').iloc[:10]\n",
    "t2 = table12.drop(columns='num_articles').iloc[-10:]\n",
    "\n",
    "t1; t2"
   ]
  },
  {
   "cell_type": "markdown",
   "metadata": {},
   "source": [
    "Just from the number of articles we can see a very clear bias. The top two countries  are much higher than the remaining. Tuvalu and Nauru are tiny islands in the South Pacific with less than 15k people each. The remaining countries on the top ten list, besides Iceland, are tiny nation states in the Pacific or Europe. Conversely, we see densely populated and/or repressed countries in the bottom ten. The numbers in the table speak loudly giving a very wide range - (0.7, 5500). However, to drive the numbers home a bit more I show a boxplot of the values. Notice how extreme the top countries are as outliers. It is skewed so badly that you can only distinghish the top countries. Running the notebook rather than viewing it directly on GitHub lets you interact with the plot if you want to zoom into the dense region or hover to see which country each dot represents."
   ]
  },
  {
   "cell_type": "code",
   "execution_count": 11,
   "metadata": {
    "ExecuteTime": {
     "end_time": "2018-10-31T17:42:06.515636Z",
     "start_time": "2018-10-31T17:42:00.463636Z"
    }
   },
   "outputs": [
    {
     "data": {
      "image/png": "[encoded data removed]",
      "text/plain": [
       "<IPython.core.display.Image object>"
      ]
     },
     "execution_count": 11,
     "metadata": {},
     "output_type": "execute_result"
    }
   ],
   "source": [
    "# create the first boxplot\n",
    "h1 = go.Box(\n",
    "    name='.', \n",
    "    x=table12.articles_per_million, \n",
    "    text=table12.country, \n",
    "    boxpoints='all', \n",
    "    jitter=.9, \n",
    "    xaxis='x1',\n",
    "    marker=dict(color='#2A3D54')\n",
    ")\n",
    "\n",
    "# show the plot\n",
    "fig = go.Figure(\n",
    "    [h1],\n",
    "    go.Layout(\n",
    "        title='Percentage of Articles Per Million People',\n",
    "        height=400,\n",
    "        width=1000,\n",
    "    ),\n",
    ")\n",
    "\n",
    "# write it to disk\n",
    "pio.write_image(fig, 'hcds-a2-counts.png')\n",
    "\n",
    "# because Plotly images do not display in GitHub, I use a byte stream to display \n",
    "# rather than the standard plotly iplot function\n",
    "ibytes = pio.to_image(fig, format='png')\n",
    "Image(ibytes)\n",
    "\n",
    "# uncomment the next line to display the interactive plot\n",
    "#iplot(fig)"
   ]
  },
  {
   "cell_type": "markdown",
   "metadata": {},
   "source": [
    "Create the second table with a proportion of articles estimated as having high quality."
   ]
  },
  {
   "cell_type": "code",
   "execution_count": 12,
   "metadata": {
    "ExecuteTime": {
     "end_time": "2018-10-31T17:42:06.581637Z",
     "start_time": "2018-10-31T17:42:06.518639Z"
    }
   },
   "outputs": [
    {
     "data": {
      "text/html": [
       "<div>\n",
       "<style scoped>\n",
       "    .dataframe tbody tr th:only-of-type {\n",
       "        vertical-align: middle;\n",
       "    }\n",
       "\n",
       "    .dataframe tbody tr th {\n",
       "        vertical-align: top;\n",
       "    }\n",
       "\n",
       "    .dataframe thead th {\n",
       "        text-align: right;\n",
       "    }\n",
       "</style>\n",
       "<table border=\"1\" class=\"dataframe\">\n",
       "  <thead>\n",
       "    <tr style=\"text-align: right;\">\n",
       "      <th></th>\n",
       "      <th>country</th>\n",
       "      <th>percent_quality</th>\n",
       "    </tr>\n",
       "  </thead>\n",
       "  <tbody>\n",
       "    <tr>\n",
       "      <th>65</th>\n",
       "      <td>Korea, North</td>\n",
       "      <td>0.179</td>\n",
       "    </tr>\n",
       "    <tr>\n",
       "      <th>108</th>\n",
       "      <td>Saudi Arabia</td>\n",
       "      <td>0.134</td>\n",
       "    </tr>\n",
       "    <tr>\n",
       "      <th>22</th>\n",
       "      <td>Central African Republic</td>\n",
       "      <td>0.118</td>\n",
       "    </tr>\n",
       "    <tr>\n",
       "      <th>105</th>\n",
       "      <td>Romania</td>\n",
       "      <td>0.115</td>\n",
       "    </tr>\n",
       "    <tr>\n",
       "      <th>82</th>\n",
       "      <td>Mauritania</td>\n",
       "      <td>0.096</td>\n",
       "    </tr>\n",
       "    <tr>\n",
       "      <th>12</th>\n",
       "      <td>Bhutan</td>\n",
       "      <td>0.091</td>\n",
       "    </tr>\n",
       "    <tr>\n",
       "      <th>131</th>\n",
       "      <td>Tuvalu</td>\n",
       "      <td>0.091</td>\n",
       "    </tr>\n",
       "    <tr>\n",
       "      <th>32</th>\n",
       "      <td>Dominica</td>\n",
       "      <td>0.083</td>\n",
       "    </tr>\n",
       "    <tr>\n",
       "      <th>135</th>\n",
       "      <td>United States</td>\n",
       "      <td>0.075</td>\n",
       "    </tr>\n",
       "    <tr>\n",
       "      <th>11</th>\n",
       "      <td>Benin</td>\n",
       "      <td>0.074</td>\n",
       "    </tr>\n",
       "  </tbody>\n",
       "</table>\n",
       "</div>"
      ],
      "text/plain": [
       "                      country  percent_quality\n",
       "65               Korea, North            0.179\n",
       "108              Saudi Arabia            0.134\n",
       "22   Central African Republic            0.118\n",
       "105                   Romania            0.115\n",
       "82                 Mauritania            0.096\n",
       "12                     Bhutan            0.091\n",
       "131                    Tuvalu            0.091\n",
       "32                   Dominica            0.083\n",
       "135             United States            0.075\n",
       "11                      Benin            0.074"
      ]
     },
     "execution_count": 12,
     "metadata": {},
     "output_type": "execute_result"
    },
    {
     "data": {
      "text/html": [
       "<div>\n",
       "<style scoped>\n",
       "    .dataframe tbody tr th:only-of-type {\n",
       "        vertical-align: middle;\n",
       "    }\n",
       "\n",
       "    .dataframe tbody tr th {\n",
       "        vertical-align: top;\n",
       "    }\n",
       "\n",
       "    .dataframe thead th {\n",
       "        text-align: right;\n",
       "    }\n",
       "</style>\n",
       "<table border=\"1\" class=\"dataframe\">\n",
       "  <thead>\n",
       "    <tr style=\"text-align: right;\">\n",
       "      <th></th>\n",
       "      <th>country</th>\n",
       "      <th>percent_quality</th>\n",
       "    </tr>\n",
       "  </thead>\n",
       "  <tbody>\n",
       "    <tr>\n",
       "      <th>89</th>\n",
       "      <td>Namibia</td>\n",
       "      <td>0.006</td>\n",
       "    </tr>\n",
       "    <tr>\n",
       "      <th>111</th>\n",
       "      <td>Sierra Leone</td>\n",
       "      <td>0.006</td>\n",
       "    </tr>\n",
       "    <tr>\n",
       "      <th>16</th>\n",
       "      <td>Brazil</td>\n",
       "      <td>0.005</td>\n",
       "    </tr>\n",
       "    <tr>\n",
       "      <th>13</th>\n",
       "      <td>Bolivia</td>\n",
       "      <td>0.005</td>\n",
       "    </tr>\n",
       "    <tr>\n",
       "      <th>40</th>\n",
       "      <td>Fiji</td>\n",
       "      <td>0.005</td>\n",
       "    </tr>\n",
       "    <tr>\n",
       "      <th>87</th>\n",
       "      <td>Morocco</td>\n",
       "      <td>0.005</td>\n",
       "    </tr>\n",
       "    <tr>\n",
       "      <th>75</th>\n",
       "      <td>Lithuania</td>\n",
       "      <td>0.004</td>\n",
       "    </tr>\n",
       "    <tr>\n",
       "      <th>94</th>\n",
       "      <td>Nigeria</td>\n",
       "      <td>0.004</td>\n",
       "    </tr>\n",
       "    <tr>\n",
       "      <th>100</th>\n",
       "      <td>Peru</td>\n",
       "      <td>0.003</td>\n",
       "    </tr>\n",
       "    <tr>\n",
       "      <th>125</th>\n",
       "      <td>Tanzania</td>\n",
       "      <td>0.002</td>\n",
       "    </tr>\n",
       "  </tbody>\n",
       "</table>\n",
       "</div>"
      ],
      "text/plain": [
       "          country  percent_quality\n",
       "89        Namibia            0.006\n",
       "111  Sierra Leone            0.006\n",
       "16         Brazil            0.005\n",
       "13        Bolivia            0.005\n",
       "40           Fiji            0.005\n",
       "87        Morocco            0.005\n",
       "75      Lithuania            0.004\n",
       "94        Nigeria            0.004\n",
       "100          Peru            0.003\n",
       "125      Tanzania            0.002"
      ]
     },
     "execution_count": 12,
     "metadata": {},
     "output_type": "execute_result"
    }
   ],
   "source": [
    "# first, extract only the articles deemed high quality by creating a mask \n",
    "# then, group by country and count the number of articles in each and reset the index\n",
    "# rename the column to what it now represents\n",
    "# finally, merge with table12 so we have the full count of articles in the same frame\n",
    "table34 = df.loc[[p in ['GA', 'FA'] for p in df.prediction], ['country', 'prediction']]\\\n",
    "    .groupby(['country'])\\\n",
    "    .count()\\\n",
    "    .reset_index()\\\n",
    "    .rename(columns={'prediction':'num_quality_articles'})\\\n",
    "    .merge(\n",
    "        table12.drop(columns='articles_per_million'),\n",
    "        on='country'\n",
    "    )\n",
    "\n",
    "# calculate the percent of articles deemed high quality as a new column\n",
    "table34['percent_quality'] = [\n",
    "    np.round(t.num_quality_articles/t.num_articles, 3)\n",
    "    for t in table34.itertuples()\n",
    "]\n",
    "\n",
    "# drop the unnecessary columns and sort by the percentage of quality articles\n",
    "table34 = table34.drop(columns=['num_quality_articles', 'num_articles'])\\\n",
    "    .sort_values(by='percent_quality', ascending=False)\n",
    "\n",
    "# extract the highest and lowest ten into new dataframes\n",
    "t3 = table34.iloc[:10]\n",
    "t4 = table34.iloc[-10:]\n",
    "\n",
    "t3; t4"
   ]
  },
  {
   "cell_type": "markdown",
   "metadata": {},
   "source": [
    "Again, we see an enormous disparity between the top and bottom ten countries. The most suprising thing to me was the quality of articles. We see that North Korea has only 1.5 articles per million people but of those articles, they have high percentage of good quality. I don't know who wrote these articles. Maybe the reason for such a high percentage is because the originating authors are from western sources  or this is a result of North Korean governance. Both are assumptions and it would be fun to explore with more data. The ten lowest quality do not necessarily suprise me. These are countries are neither English speaking or known to have great public education systems that would lead to high quality articles being written. Again, I show a boxplot to visualize the skew. This is more symmetric than the number of articles but still skewed. But the skew isn't the most interesting part, its the content and location of styles of governemnt within the list. Again, I'd like to align this dataset with the world indicators to bring out more interesting insights."
   ]
  },
  {
   "cell_type": "code",
   "execution_count": 13,
   "metadata": {
    "ExecuteTime": {
     "end_time": "2018-10-31T17:42:06.798638Z",
     "start_time": "2018-10-31T17:42:06.583637Z"
    },
    "scrolled": false
   },
   "outputs": [
    {
     "data": {
      "image/png": "[encoded data removed]",
      "text/plain": [
       "<IPython.core.display.Image object>"
      ]
     },
     "execution_count": 13,
     "metadata": {},
     "output_type": "execute_result"
    }
   ],
   "source": [
    "# create the second boxplot\n",
    "h2 = go.Box(\n",
    "    name='.', \n",
    "    x=table34.percent_quality, \n",
    "    text=table34.country,  \n",
    "    boxpoints='all',\n",
    "    jitter=0.3,\n",
    "    xaxis='x2',\n",
    "    marker=dict(color='#B26C10')\n",
    ")\n",
    "\n",
    "# create the figure\n",
    "fig = go.Figure(\n",
    "    [h2],\n",
    "    go.Layout(\n",
    "        title='Percentage of Articles Deemed High Quality',\n",
    "        height=400,\n",
    "        width=1000\n",
    "    )\n",
    ")\n",
    "\n",
    "# write it to disk\n",
    "pio.write_image(fig, 'hcds-a2-quality.png')\n",
    "\n",
    "# because Plotly images do not display in GitHub, I use a byte stream to display \n",
    "# rather than the standard plotly iplot function\n",
    "ibytes = pio.to_image(fig, format='png')\n",
    "Image(ibytes)\n",
    "\n",
    "# uncomment the next line to display the interactive plot\n",
    "#iplot(fig)"
   ]
  }
 ],
 "metadata": {
  "kernelspec": {
   "display_name": "Python [conda env:bright]",
   "language": "python",
   "name": "conda-env-bright-py"
  },
  "language_info": {
   "codemirror_mode": {
    "name": "ipython",
    "version": 3
   },
   "file_extension": ".py",
   "mimetype": "text/x-python",
   "name": "python",
   "nbconvert_exporter": "python",
   "pygments_lexer": "ipython3",
   "version": "3.6.6"
  },
  "varInspector": {
   "cols": {
    "lenName": 16,
    "lenType": 16,
    "lenVar": 40
   },
   "kernels_config": {
    "python": {
     "delete_cmd_postfix": "",
     "delete_cmd_prefix": "del ",
     "library": "var_list.py",
     "varRefreshCmd": "print(var_dic_list())"
    },
    "r": {
     "delete_cmd_postfix": ") ",
     "delete_cmd_prefix": "rm(",
     "library": "var_list.r",
     "varRefreshCmd": "cat(var_dic_list()) "
    }
   },
   "types_to_exclude": [
    "module",
    "function",
    "builtin_function_or_method",
    "instance",
    "_Feature"
   ],
   "window_display": false
  }
 },
 "nbformat": 4,
 "nbformat_minor": 2
}
